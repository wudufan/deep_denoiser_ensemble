{
 "cells": [
  {
   "cell_type": "code",
   "execution_count": 9,
   "metadata": {},
   "outputs": [
    {
     "output_type": "execute_result",
     "data": {
      "text/plain": [
       "'\\ngenerate sbatch scripts for mayo testing\\nAdditional averaging test\\n'"
      ]
     },
     "metadata": {},
     "execution_count": 9
    }
   ],
   "source": [
    "'''\n",
    "generate sbatch scripts for mayo testing\n",
    "Additional averaging test\n",
    "'''"
   ]
  },
  {
   "cell_type": "code",
   "execution_count": 10,
   "metadata": {},
   "outputs": [],
   "source": [
    "import glob\n",
    "import os\n",
    "import copy\n",
    "import pathlib\n",
    "from datetime import datetime\n",
    "import numpy as np"
   ]
  },
  {
   "cell_type": "code",
   "execution_count": 11,
   "metadata": {},
   "outputs": [],
   "source": [
    "job_name = 'mayo2d_avg'\n",
    "devices = ['0']\n",
    "nprocesses = len(devices)\n",
    "log_name = './outputs/mayo2d_avg'\n",
    "slurm_header = \"\"\"#!/bin/bash\n",
    "#SBATCH --partition=defq\n",
    "#SBATCH --job-name=%s\n",
    "#SBATCH --nodelist=gpu-node008\n",
    "#SBATCH --cpus-per-task=16\n",
    "#SBATCH --time=0\n",
    "\"\"\"%job_name\n",
    "\n",
    "cmds = []"
   ]
  },
  {
   "cell_type": "code",
   "execution_count": 12,
   "metadata": {},
   "outputs": [],
   "source": [
    "input_dir = '/home/local/PARTNERS/dw640/mnt/women_health_internal/dufan.wu/lowdoseCTsets/'\n",
    "output_dir = '/home/local/PARTNERS/dw640/mnt/women_health_internal/dufan.wu/deep_denoiser_ensemble/test/mayo_2d_3_layer_mean/'\n",
    "prj_names = ['L291', 'L143', 'L067']\n",
    "dose_rates = [2, 4, 6, 8]\n",
    "# dose_rates = [6]\n",
    "\n",
    "# prj_names = ['L291']\n",
    "# dose_rates = [6]\n",
    "\n",
    "base_args = {\n",
    "    'geometry': '../geometry_mayo.cfg',\n",
    "    'train_dir': '/home/local/PARTNERS/dw640/mnt/women_health_internal/dufan.wu/deep_denoiser_ensemble/train/mayo_2d_3_layer_mean/',\n",
    "    \n",
    "    'nslice_mean': '3', \n",
    "    'img_norm': '0.019', \n",
    "    'islices': ['0', '-1'],\n",
    "    \n",
    "    'filter': 'hann',\n",
    "    'margin': '96',\n",
    "    'vmin': '-0.16', \n",
    "    'vmax': '0.24',\n",
    "} "
   ]
  },
  {
   "cell_type": "code",
   "execution_count": 13,
   "metadata": {},
   "outputs": [],
   "source": [
    "# ensemble with real dose data\n",
    "additional_args = {\n",
    "    'py': 'test2d_average_mayo',\n",
    "    'N0': '-1',\n",
    "    'dose_rate': '4', \n",
    "    'checkpoint': '25', \n",
    "    'tags': 'l2_depth_3/dose_rate_2,l2_depth_3/dose_rate_4,l2_depth_3/dose_rate_8,l2_depth_3/dose_rate_16',\n",
    "    'checkpoint_smooth': 'l2_depth_3/dose_rate_16/25.h5',\n",
    "    'N0_ref': '2.5e4',\n",
    "}\n",
    "\n",
    "args = copy.deepcopy(base_args)\n",
    "args.update(additional_args)\n",
    "\n",
    "for name in prj_names:\n",
    "    cmd = copy.deepcopy(args)\n",
    "    cmd['prj'] = os.path.join(input_dir, '%s_quarter_sino.mat'%name)\n",
    "    cmd['output'] = os.path.join(output_dir, 'quarter/average/%s'%name)\n",
    "    cmd['device'] = devices[len(cmds) % len(devices)]\n",
    "    \n",
    "    cmds.append(cmd)"
   ]
  },
  {
   "cell_type": "code",
   "execution_count": 14,
   "metadata": {},
   "outputs": [],
   "source": [
    "# ensemble with simulated dose\n",
    "additional_args = {\n",
    "    'py': 'test2d_average_mayo',\n",
    "    'N0': '1e5',\n",
    "    'checkpoint': '25', \n",
    "    'tags': 'l2_depth_3/dose_rate_2,l2_depth_3/dose_rate_4,l2_depth_3/dose_rate_8,l2_depth_3/dose_rate_16',\n",
    "    'checkpoint_smooth': 'l2_depth_3/dose_rate_16/25.h5',\n",
    "    'N0_ref': '2.5e4',\n",
    "}\n",
    "\n",
    "args = copy.deepcopy(base_args)\n",
    "args.update(additional_args)\n",
    "\n",
    "for dose in dose_rates:\n",
    "    for name in prj_names:\n",
    "        cmd = copy.deepcopy(args)\n",
    "        cmd['prj'] = os.path.join(input_dir, '%s_full_sino.mat'%name)\n",
    "        cmd['output'] = os.path.join(output_dir, 'dose_rate_%d/average/%s'%(dose, name))\n",
    "        cmd['dose_rate'] = '%d'%dose \n",
    "        cmd['device'] = devices[len(cmds) % len(devices)]\n",
    "\n",
    "        cmds.append(cmd)"
   ]
  },
  {
   "cell_type": "code",
   "execution_count": 15,
   "metadata": {},
   "outputs": [],
   "source": [
    "with open('%s.sh'%job_name, 'w') as f:\n",
    "    # slurm\n",
    "    f.write(slurm_header + '\\n\\n')\n",
    "    f.write('cd ..\\n')\n",
    "\n",
    "    for k, cmd in enumerate(cmds):\n",
    "        # arguments\n",
    "        argstrs = []\n",
    "        for name in cmd:\n",
    "            if name == 'py':\n",
    "                continue\n",
    "            if isinstance(cmd[name], list):\n",
    "                argstrs.append(' '.join(['--%s'%name] + ['\"%s\"'%s for s in cmd[name]]))\n",
    "            else:\n",
    "                argstrs.append('--%s \"%s\"'%(name, cmd[name]))\n",
    "        argstr = ' '.join(argstrs)\n",
    "        \n",
    "        logstr = '&>> %s_%d.log'%(log_name, k%nprocesses)\n",
    "        \n",
    "        f.write('python3 %s.py '%cmd['py'] + argstr + ' ' + logstr + ' &\\n')\n",
    "        if (k+1)%nprocesses == 0:\n",
    "            f.write('wait\\n')\n",
    "            f.write('echo \"%d/%d\"\\n'%(k+1, len(cmds)))\n",
    "    f.write('wait\\n')\n",
    "    \n",
    "    # cat logs together\n",
    "    f.write('cat ' + ' '.join(['%s_%d.log'%(log_name, k) for k in range(nprocesses)]) + ' > ' + log_name + '.log\\n')\n",
    "    for k in range(nprocesses):\n",
    "        f.write('rm %s_%d.log\\n'%(log_name, k))"
   ]
  },
  {
   "cell_type": "code",
   "execution_count": null,
   "metadata": {},
   "outputs": [],
   "source": []
  }
 ],
 "metadata": {
  "kernelspec": {
   "name": "python3",
   "display_name": "Python 3.7.6 64-bit ('dbt_dev': conda)"
  },
  "language_info": {
   "codemirror_mode": {
    "name": "ipython",
    "version": 3
   },
   "file_extension": ".py",
   "mimetype": "text/x-python",
   "name": "python",
   "nbconvert_exporter": "python",
   "pygments_lexer": "ipython3",
   "version": "3.7.6"
  },
  "interpreter": {
   "hash": "04fc085b4c305623d45105d8bcdc570bddd24d3fe2cda0fea67cfb0832443c45"
  }
 },
 "nbformat": 4,
 "nbformat_minor": 4
}