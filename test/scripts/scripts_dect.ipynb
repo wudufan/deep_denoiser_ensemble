{
 "cells": [
  {
   "cell_type": "code",
   "execution_count": 1,
   "metadata": {},
   "outputs": [
    {
     "data": {
      "text/plain": [
       "'\\ngenerate sbatch scripts for dect testing\\n'"
      ]
     },
     "execution_count": 1,
     "metadata": {},
     "output_type": "execute_result"
    }
   ],
   "source": [
    "'''\n",
    "generate sbatch scripts for dect testing\n",
    "'''"
   ]
  },
  {
   "cell_type": "code",
   "execution_count": 2,
   "metadata": {},
   "outputs": [],
   "source": [
    "import glob\n",
    "import os\n",
    "import copy\n",
    "import pathlib\n",
    "from datetime import datetime\n",
    "import numpy as np"
   ]
  },
  {
   "cell_type": "code",
   "execution_count": 3,
   "metadata": {},
   "outputs": [],
   "source": [
    "job_name = 'dect2d'\n",
    "devices = ['2', '3']\n",
    "nprocesses = len(devices)\n",
    "log_name = './outputs/dect2d'\n",
    "slurm_header = \"\"\"#!/bin/bash\n",
    "#SBATCH --partition=defq\n",
    "#SBATCH --job-name=%s\n",
    "#SBATCH --nodelist=gpu-node008\n",
    "#SBATCH --cpus-per-task=16\n",
    "#SBATCH --time=0\n",
    "\"\"\"%job_name\n",
    "\n",
    "cmds = []"
   ]
  },
  {
   "cell_type": "code",
   "execution_count": 4,
   "metadata": {},
   "outputs": [],
   "source": [
    "input_dir = '/home/dwu/data/DECT/sinogram/'\n",
    "output_dir = '/home/dwu/trainData/deep_denoiser_ensemble/test/dect_2d_3_layer_mean/'\n",
    "# prj_names = ['35', '54', '56']\n",
    "prj_names = ['35']\n",
    "\n",
    "base_args = {\n",
    "    'geometry': '/home/dwu/trainData/deep_denoiser_ensemble/data/dect_2d_3_layer_mean/geometry.cfg',\n",
    "    'train_dir': '/home/dwu/trainData/deep_denoiser_ensemble/train/mayo_2d_3_layer_mean/',\n",
    "    \n",
    "    'nslice_mean': '3', \n",
    "    'img_norm': '0.019', \n",
    "    'islices': ['0', '-1'],\n",
    "    \n",
    "    'filter': 'hann',\n",
    "    'margin': '96',\n",
    "    'vmin': '-0.16', \n",
    "    'vmax': '0.24',\n",
    "} "
   ]
  },
  {
   "cell_type": "code",
   "execution_count": 5,
   "metadata": {},
   "outputs": [],
   "source": [
    "# ensemble with real dose data\n",
    "additional_args = {\n",
    "    'py': 'test2d_ensemble_dect',\n",
    "    'checkpoint': '25', \n",
    "    'tags': 'l2_depth_3/dose_rate_2,l2_depth_3/dose_rate_4,l2_depth_3/dose_rate_8,l2_depth_3/dose_rate_16',\n",
    "    'checkpoint_smooth': 'l2_depth_3/dose_rate_16/25.h5',\n",
    "    'N0_ref': '1.25e4',\n",
    "}\n",
    "\n",
    "args = copy.deepcopy(base_args)\n",
    "args.update(additional_args)\n",
    "\n",
    "for name in prj_names:\n",
    "    for energy in ['a', 'b']:\n",
    "        cmd = copy.deepcopy(args)\n",
    "        cmd['prj'] = os.path.join(input_dir, 'sino_%s_2.mat'%name)\n",
    "        cmd['output'] = os.path.join(output_dir, 'half/ensemble/%s'%name)\n",
    "        cmd['energy'] = energy\n",
    "        cmd['device'] = devices[len(cmds) % len(devices)]\n",
    "\n",
    "        cmds.append(cmd)"
   ]
  },
  {
   "cell_type": "code",
   "execution_count": 6,
   "metadata": {},
   "outputs": [],
   "source": [
    "# fbp \n",
    "additional_args = {\n",
    "    'py': 'test2d_fbp_dect',\n",
    "}\n",
    "\n",
    "args = copy.deepcopy(base_args)\n",
    "args.pop('train_dir', None)\n",
    "args.update(additional_args)\n",
    "\n",
    "for dose in ['1', '2']:\n",
    "    for name in prj_names:\n",
    "        for energy in ['a', 'b']:\n",
    "            cmd = copy.deepcopy(args)\n",
    "            cmd['prj'] = os.path.join(input_dir, 'sino_%s_%s.mat'%(name, dose))\n",
    "            if dose == '1':\n",
    "                cmd['output'] = os.path.join(output_dir, 'full/fbp/%s'%name)\n",
    "            else:\n",
    "                cmd['output'] = os.path.join(output_dir, 'half/fbp/%s'%name)\n",
    "            cmd['device'] = devices[len(cmds) % len(devices)]\n",
    "            cmd['energy'] = energy\n",
    "\n",
    "            cmds.append(cmd)"
   ]
  },
  {
   "cell_type": "code",
   "execution_count": 7,
   "metadata": {},
   "outputs": [],
   "source": [
    "# single network with real dose data\n",
    "additional_args = {\n",
    "    'py': 'test2d_dect',\n",
    "}\n",
    "\n",
    "args = copy.deepcopy(base_args)\n",
    "args.update(additional_args)\n",
    "\n",
    "for checkpoint in ['l2_depth_3/all/5.h5', 'l2_depth_3/dose_rate_4/25.h5']:\n",
    "    for name in prj_names:\n",
    "        for energy in ['a', 'b']:\n",
    "            cmd = copy.deepcopy(args)\n",
    "            cmd['prj'] = os.path.join(input_dir, 'sino_%s_2.mat'%name)\n",
    "            if 'all' in checkpoint:\n",
    "                cmd['output'] = os.path.join(output_dir, 'half/l2/%s_all'%name)\n",
    "            else:\n",
    "                cmd['output'] = os.path.join(output_dir, 'half/l2/%s'%name)\n",
    "            cmd['checkpoint'] = checkpoint\n",
    "            cmd['device'] = devices[len(cmds) % len(devices)]\n",
    "            cmd['energy'] = energy\n",
    "\n",
    "            cmds.append(cmd)"
   ]
  },
  {
   "cell_type": "code",
   "execution_count": 8,
   "metadata": {},
   "outputs": [],
   "source": [
    "# single wgan with real dose data\n",
    "additional_args = {\n",
    "    'py': 'test2d_dect',\n",
    "}\n",
    "\n",
    "args = copy.deepcopy(base_args)\n",
    "args.update(additional_args)\n",
    "\n",
    "for checkpoint in ['l2_depth_3_wgan/all/5.h5', 'l2_depth_3_wgan/dose_rate_4/25.h5']:\n",
    "    for name in prj_names:\n",
    "        for energy in ['a', 'b']:\n",
    "            cmd = copy.deepcopy(args)\n",
    "            cmd['prj'] = os.path.join(input_dir, 'sino_%s_2.mat'%name)\n",
    "            if 'all' in checkpoint:\n",
    "                cmd['output'] = os.path.join(output_dir, 'half/wgan/%s_all'%name)\n",
    "            else:\n",
    "                cmd['output'] = os.path.join(output_dir, 'half/wgan/%s'%name)\n",
    "            cmd['checkpoint'] = checkpoint\n",
    "            cmd['device'] = devices[len(cmds) % len(devices)]\n",
    "            cmd['energy'] = energy\n",
    "\n",
    "            cmds.append(cmd)"
   ]
  },
  {
   "cell_type": "code",
   "execution_count": 9,
   "metadata": {},
   "outputs": [],
   "source": [
    "with open('%s.sh'%job_name, 'w') as f:\n",
    "    # slurm\n",
    "    f.write(slurm_header + '\\n\\n')\n",
    "    f.write('cd ..\\n')\n",
    "\n",
    "    for k, cmd in enumerate(cmds):\n",
    "        # arguments\n",
    "        argstrs = []\n",
    "        for name in cmd:\n",
    "            if name == 'py':\n",
    "                continue\n",
    "            if isinstance(cmd[name], list):\n",
    "                argstrs.append(' '.join(['--%s'%name] + ['\"%s\"'%s for s in cmd[name]]))\n",
    "            else:\n",
    "                argstrs.append('--%s \"%s\"'%(name, cmd[name]))\n",
    "        argstr = ' '.join(argstrs)\n",
    "        \n",
    "        logstr = '&>> %s_%d.log'%(log_name, k%nprocesses)\n",
    "        \n",
    "        f.write('python3 %s.py '%cmd['py'] + argstr + ' ' + logstr + ' &\\n')\n",
    "        if (k+1)%nprocesses == 0:\n",
    "            f.write('wait\\n')\n",
    "            f.write('echo \"%d/%d\"\\n'%(k+1, len(cmds)))\n",
    "    f.write('wait\\n')\n",
    "    \n",
    "    # cat logs together\n",
    "    f.write('cat ' + ' '.join(['%s_%d.log'%(log_name, k) for k in range(nprocesses)]) + ' > ' + log_name + '.log\\n')\n",
    "    for k in range(nprocesses):\n",
    "        f.write('rm %s_%d.log\\n'%(log_name, k))"
   ]
  },
  {
   "cell_type": "code",
   "execution_count": null,
   "metadata": {},
   "outputs": [],
   "source": []
  }
 ],
 "metadata": {
  "kernelspec": {
   "display_name": "Python 3",
   "language": "python",
   "name": "python3"
  },
  "language_info": {
   "codemirror_mode": {
    "name": "ipython",
    "version": 3
   },
   "file_extension": ".py",
   "mimetype": "text/x-python",
   "name": "python",
   "nbconvert_exporter": "python",
   "pygments_lexer": "ipython3",
   "version": "3.8.6"
  }
 },
 "nbformat": 4,
 "nbformat_minor": 4
}
