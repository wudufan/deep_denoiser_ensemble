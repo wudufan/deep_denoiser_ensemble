{
 "cells": [
  {
   "cell_type": "code",
   "execution_count": 1,
   "metadata": {},
   "outputs": [
    {
     "data": {
      "text/plain": [
       "'\\nCalculate the noise power spectrum for the dect images and compare to the reference\\n'"
      ]
     },
     "execution_count": 1,
     "metadata": {},
     "output_type": "execute_result"
    }
   ],
   "source": [
    "'''\n",
    "Calculate the noise power spectrum for the dect images and compare to the reference\n",
    "'''"
   ]
  },
  {
   "cell_type": "code",
   "execution_count": 2,
   "metadata": {},
   "outputs": [],
   "source": [
    "import glob\n",
    "import os\n",
    "import SimpleITK as sitk\n",
    "import pandas as pd\n",
    "import pathlib\n",
    "import numpy as np\n",
    "import matplotlib.pyplot as plt\n",
    "import scipy.interpolate"
   ]
  },
  {
   "cell_type": "code",
   "execution_count": 3,
   "metadata": {},
   "outputs": [],
   "source": [
    "def get_attrib_from_name(filename):\n",
    "    filename = pathlib.Path(filename)\n",
    "    \n",
    "    basename = filename.stem\n",
    "    method = filename.parents[0].name\n",
    "    dose_rate = filename.parents[1].name\n",
    "    \n",
    "    name = basename.split('_')[0]\n",
    "    if dose_rate == 'half':\n",
    "        dose = 'low'\n",
    "    else:\n",
    "        raise ValueError('Unexpected dose: %s'%dose)\n",
    "        \n",
    "    if method == 'ensemble':\n",
    "        method = 'Ensemble'\n",
    "    elif method == 'fbp':\n",
    "        method = 'FBP'\n",
    "    elif method == 'l2' and 'all' in basename:\n",
    "        method = 'L2 (universal)'\n",
    "    elif method == 'l2' and not 'all' in basename:\n",
    "        method = 'L2 (matched)'\n",
    "    elif method == 'wgan' and 'all' in basename:\n",
    "        method = 'WGAN (universal)'\n",
    "    elif method == 'wgan' and not 'all' in basename:\n",
    "        method = 'WGAN (matched)'\n",
    "    else:\n",
    "        raise ValueError('Unexpected method: %s'%method)\n",
    "    \n",
    "    return {'Image': name, \n",
    "            'Tag': '%s/%s'%(dose, method),\n",
    "            'filename': filename}"
   ]
  },
  {
   "cell_type": "code",
   "execution_count": 4,
   "metadata": {},
   "outputs": [],
   "source": [
    "def extract_patches_from_rois(img, roi, patch_size = [32, 32]):\n",
    "    patches = []\n",
    "    \n",
    "    for islice in range(len(img)):\n",
    "        coords = np.where(roi[islice] > 0)\n",
    "        if len(coords[0]) == 0:\n",
    "            continue\n",
    "        \n",
    "        ymin = coords[0].min()\n",
    "        ymax = coords[0].max() + 1\n",
    "        xmin = coords[1].min()\n",
    "        xmax = coords[1].max() + 1\n",
    "        \n",
    "        if ymax - ymin < patch_size[0] or xmax - xmin < patch_size[1]:\n",
    "            continue\n",
    "        \n",
    "        for iy in range(ymin, ymax - patch_size[0] + 1, patch_size[0]):\n",
    "            for ix in range(xmin, xmax - patch_size[1] + 1, patch_size[1]):\n",
    "                patches.append(img[islice, iy:iy+patch_size[0], ix:ix+patch_size[1]])\n",
    "    \n",
    "    return np.array(patches)"
   ]
  },
  {
   "cell_type": "code",
   "execution_count": 5,
   "metadata": {},
   "outputs": [],
   "source": [
    "def extract_patches_auto(ref, img, patch_size = [32, 32], hu_range = [0, 240], max_ref_std = 25):\n",
    "    iys = np.arange(0, ref.shape[1], patch_size[0])\n",
    "    iys[iys > ref.shape[1] - patch_size[0]] = ref.shape[1] - patch_size[0]\n",
    "    ixs = np.arange(0, ref.shape[2], patch_size[1])\n",
    "    ixs[ixs > ref.shape[2] - patch_size[1]] = ref.shape[2] - patch_size[1]\n",
    "    \n",
    "    ref_patches = []\n",
    "    img_patches = []\n",
    "    \n",
    "    for iy in iys:\n",
    "        for ix in ixs:\n",
    "            ref_patches.append(ref[:, iy:iy+patch_size[0], ix:ix+patch_size[1]])\n",
    "            img_patches.append(img[:, iy:iy+patch_size[0], ix:ix+patch_size[1]])\n",
    "    \n",
    "    ref_patches = np.concatenate(ref_patches)\n",
    "    img_patches = np.concatenate(img_patches)\n",
    "    \n",
    "    stds_ref = np.std(ref_patches, axis = (1,2))\n",
    "    mean_ref = np.mean(ref_patches, axis = (1,2))\n",
    "    lb_ref = np.percentile(ref_patches, 0, axis=(1,2))\n",
    "    ub_ref = np.percentile(ref_patches, 100, axis=(1,2))\n",
    "    \n",
    "    inds = np.where((lb_ref > hu_range[0]) & (ub_ref < hu_range[1]) & (stds_ref < max_ref_std))\n",
    "    \n",
    "    stds_ref = stds_ref[inds]\n",
    "    img_patches = img_patches[inds]\n",
    "    inds = np.argsort(stds_ref)\n",
    "    \n",
    "    return img_patches[inds]"
   ]
  },
  {
   "cell_type": "code",
   "execution_count": 6,
   "metadata": {},
   "outputs": [],
   "source": [
    "def estimate_nps(patches, r_step = 0.5, angle_step = 15):\n",
    "    angle_step = angle_step * np.pi / 180\n",
    "    \n",
    "    n = patches.shape[1] * patches.shape[2]\n",
    "    freq = np.abs(np.fft.fft2(patches / patches.mean((-1,-2))[:, np.newaxis, np.newaxis] - 1))**2 / n\n",
    "    freq = np.mean(freq, 0)\n",
    "    \n",
    "    nps2d = freq[:freq.shape[0]//2, :freq.shape[1]//2]\n",
    "    f = scipy.interpolate.interp2d(np.arange(nps2d.shape[1]), np.arange(nps2d.shape[0]), nps2d)\n",
    "    \n",
    "    nps1d_list = []\n",
    "    for angle in np.arange(0, np.pi / 2 + 0.001, angle_step):\n",
    "        nps1d = []\n",
    "        for r in np.arange(0, nps2d.shape[0] + 0.001, r_step):\n",
    "            nps1d.append(f(r * np.cos(angle), r * np.sin(angle)))\n",
    "        nps1d_list.append(nps1d)\n",
    "    nps1d_list = np.array(nps1d_list)\n",
    "    \n",
    "    return nps1d_list.mean(0)   "
   ]
  },
  {
   "cell_type": "code",
   "execution_count": 7,
   "metadata": {},
   "outputs": [
    {
     "name": "stdout",
     "output_type": "stream",
     "text": [
      "35\n",
      "6: 0,1,2,3,4,5,\n",
      "56\n",
      "6: 0,1,2,3,4,5,\n",
      "57\n",
      "6: 0,1,2,3,4,5,\n",
      "58\n",
      "6: 0,1,2,3,4,5,\n",
      "59\n",
      "6: 0,1,2,3,4,5,\n",
      "60\n",
      "6: 0,1,2,3,4,5,\n"
     ]
    }
   ],
   "source": [
    "result_dir = '/home/dwu/trainData/deep_denoiser_ensemble/test/dect_2d_3_layer_mean/'\n",
    "names = ['35', '56', '57', '58', '59', '60']\n",
    "# names = ['60']\n",
    "\n",
    "manifest = []\n",
    "for name in names:\n",
    "    for energy in ['b']:\n",
    "        print (name, flush=True)\n",
    "        result_list = [f for f in glob.glob(os.path.join(result_dir, '*/*', '%s*_%s.nii'%(name, energy))) if 'full' not in f]\n",
    "\n",
    "        # load the reference image\n",
    "        ref_sitk = sitk.ReadImage(os.path.join(result_dir, 'full/fbp/%s_%s.nii')%(name, energy))\n",
    "        ref = sitk.GetArrayFromImage(ref_sitk)\n",
    "        dx = ref_sitk.GetSpacing()[0]\n",
    "        \n",
    "        ref_roi = sitk.GetArrayFromImage(sitk.ReadImage(os.path.join(result_dir, 'full/roi/%s.nrrd')%name))\n",
    "        ref_p = extract_patches_from_rois(ref, ref_roi)\n",
    "        nps = estimate_nps(ref_p).squeeze()*dx*dx\n",
    "        \n",
    "        print (len(result_list), end=': ', flush=True)\n",
    "        metric_manifests = [pd.DataFrame({'Image': [name] * len(nps), \n",
    "                                          'Frequency': np.arange(len(nps)) * (1 / 2 / dx) / (len(nps) - 1),\n",
    "                                          'full/FBP': nps})]\n",
    "        imgs = []\n",
    "        for k, result_name in enumerate(result_list):\n",
    "            print (k, end = ',', flush=True)\n",
    "\n",
    "            attrib = get_attrib_from_name(result_name)\n",
    "            img = sitk.GetArrayFromImage(sitk.ReadImage(result_name))\n",
    "            img_roi = sitk.GetArrayFromImage(sitk.ReadImage(os.path.join(result_dir, 'half/roi/%s.nrrd')%name))\n",
    "            img_p = extract_patches_from_rois(img, img_roi)\n",
    "            \n",
    "            imgs.append(img_p)\n",
    "            nps = estimate_nps(img_p).squeeze()*dx*dx\n",
    "            \n",
    "            metric_manifests.append(pd.DataFrame({'Image': [attrib['Image']] * len(nps), \n",
    "                                                  'Frequency': np.arange(len(nps)) * (1 / 2 / dx) / (len(nps) - 1),\n",
    "                                                  attrib['Tag']: nps}))\n",
    "    \n",
    "        print ('')\n",
    "\n",
    "        # merge the manifests\n",
    "        df = metric_manifests[0]\n",
    "        for m in metric_manifests[1:]:\n",
    "            df = pd.merge(df, m, on = ['Image', 'Frequency'])\n",
    "        manifest.append(df)\n",
    "        \n",
    "manifest = pd.concat(manifest, ignore_index = True)\n",
    "manifest.to_csv('./dect2d_nps.csv', index=False)"
   ]
  },
  {
   "cell_type": "code",
   "execution_count": 8,
   "metadata": {},
   "outputs": [
    {
     "name": "stdout",
     "output_type": "stream",
     "text": [
      "0.2880855298281562\n",
      "0.3296284122390813\n",
      "0.38996273814216376\n",
      "0.2865329935938156\n",
      "0.21153760194195104\n",
      "0.2294788846172918\n",
      "0.2756371843711873\n"
     ]
    },
    {
     "data": {
      "text/plain": [
       "<matplotlib.legend.Legend at 0x2aaab4e8b190>"
      ]
     },
     "execution_count": 8,
     "metadata": {},
     "output_type": "execute_result"
    },
    {
     "data": {
      "image/png": "[encoded data removed]",
      "text/plain": [
       "<Figure size 432x288 with 1 Axes>"
      ]
     },
     "metadata": {
      "needs_background": "light"
     },
     "output_type": "display_data"
    }
   ],
   "source": [
    "nps = []\n",
    "for p in [ref_p] + imgs:\n",
    "    print (np.std(p) / np.mean(p))\n",
    "    nps.append(estimate_nps(p))\n",
    "\n",
    "for nps_val in nps:\n",
    "    plt.plot(nps_val, '.-')\n",
    "plt.legend(['full', 'ensemble', 'fbp', 'all'])"
   ]
  },
  {
   "cell_type": "code",
   "execution_count": null,
   "metadata": {},
   "outputs": [],
   "source": []
  }
 ],
 "metadata": {
  "kernelspec": {
   "display_name": "Python 3",
   "language": "python",
   "name": "python3"
  },
  "language_info": {
   "codemirror_mode": {
    "name": "ipython",
    "version": 3
   },
   "file_extension": ".py",
   "mimetype": "text/x-python",
   "name": "python",
   "nbconvert_exporter": "python",
   "pygments_lexer": "ipython3",
   "version": "3.8.6"
  }
 },
 "nbformat": 4,
 "nbformat_minor": 4
}
