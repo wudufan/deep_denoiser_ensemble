{
 "cells": [
  {
   "cell_type": "code",
   "execution_count": 1,
   "metadata": {},
   "outputs": [
    {
     "output_type": "execute_result",
     "data": {
      "text/plain": [
       "'\\nCalculate the texture difference of the mayo results (currently using only patch-std)\\n'"
      ]
     },
     "metadata": {},
     "execution_count": 1
    }
   ],
   "source": [
    "'''\n",
    "Calculate the texture difference of the mayo results (currently using only patch-std)\n",
    "'''"
   ]
  },
  {
   "cell_type": "code",
   "execution_count": 2,
   "metadata": {},
   "outputs": [],
   "source": [
    "import glob\n",
    "import os\n",
    "import SimpleITK as sitk\n",
    "import pandas as pd\n",
    "import pathlib\n",
    "import numpy as np"
   ]
  },
  {
   "cell_type": "code",
   "execution_count": 3,
   "metadata": {},
   "outputs": [],
   "source": [
    "def calc_std_difference(ref, img, patch_size = [32, 32], hu_range = [0, 240], max_ref_std = 20):\n",
    "    iys = np.arange(0, ref.shape[1], patch_size[0])\n",
    "    iys[iys > ref.shape[1] - patch_size[0]] = ref.shape[1] - patch_size[0]\n",
    "    ixs = np.arange(0, ref.shape[2], patch_size[1])\n",
    "    ixs[ixs > ref.shape[2] - patch_size[1]] = ref.shape[2] - patch_size[1]\n",
    "    \n",
    "    ref_patches = []\n",
    "    img_patches = []\n",
    "    \n",
    "    for iy in iys:\n",
    "        for ix in ixs:\n",
    "            ref_patches.append(ref[:, iy:iy+patch_size[0], ix:ix+patch_size[1]])\n",
    "            img_patches.append(img[:, iy:iy+patch_size[0], ix:ix+patch_size[1]])\n",
    "    \n",
    "    ref_patches = np.concatenate(ref_patches)\n",
    "    img_patches = np.concatenate(img_patches)\n",
    "    \n",
    "    stds_ref = np.std(ref_patches, axis = (1,2))\n",
    "    mean_ref = np.mean(ref_patches, axis = (1,2))\n",
    "    stds_img = np.std(img_patches, axis = (1,2))\n",
    "    \n",
    "    inds = np.where((mean_ref > hu_range[0]) & (mean_ref < hu_range[1]) & (stds_ref < max_ref_std))\n",
    "    \n",
    "    stds_img = stds_img[inds]\n",
    "    stds_ref = stds_ref[inds]\n",
    "    ref_patches = ref_patches[inds]\n",
    "    inds = np.argsort(stds_ref)\n",
    "    \n",
    "    return stds_img[inds] - stds_ref[inds], ref_patches[inds]"
   ]
  },
  {
   "cell_type": "code",
   "execution_count": 7,
   "metadata": {},
   "outputs": [],
   "source": [
    "def get_attrib_from_name(filename):\n",
    "    filename = pathlib.Path(filename)\n",
    "    \n",
    "    basename = filename.stem\n",
    "    method = filename.parents[0].name\n",
    "    dose_rate = filename.parents[1].name\n",
    "    \n",
    "    name = basename.split('_')[0]\n",
    "    if dose_rate == 'quarter':\n",
    "        dose = '4x (Mayo)'\n",
    "    else:\n",
    "        dose = '%sx'%(dose_rate.split('_')[-1])\n",
    "    if method == 'ensemble':\n",
    "        method = 'Ensemble'\n",
    "    elif method == 'average':\n",
    "        method = 'Average'\n",
    "    elif method == 'fbp':\n",
    "        method = 'FBP'\n",
    "    elif method == 'l2' and 'all' in basename:\n",
    "        method = 'L2 (universal)'\n",
    "    elif method == 'l2' and not 'all' in basename:\n",
    "        method = 'L2 (matched)'\n",
    "    elif method == 'wgan' and 'all' in basename:\n",
    "        method = 'WGAN (universal)'\n",
    "    elif method == 'wgan' and not 'all' in basename:\n",
    "        method = 'WGAN (matched)'\n",
    "    else:\n",
    "        raise ValueError('Unexpected method: %s'%method)\n",
    "    \n",
    "    return {'Image': name, \n",
    "            'Tag': '%s/%s'%(dose, method),\n",
    "            'filename': filename}"
   ]
  },
  {
   "cell_type": "code",
   "execution_count": 9,
   "metadata": {},
   "outputs": [
    {
     "output_type": "stream",
     "name": "stdout",
     "text": [
      "L291\n",
      "29: 0,1,2,3,4,5,6,7,8,9,10,11,12,13,14,15,16,17,18,19,20,21,22,23,24,25,26,27,28,\n",
      "L143\n",
      "29: 0,1,2,3,4,5,6,7,8,9,10,11,12,13,14,15,16,17,18,19,20,21,22,23,24,25,26,27,28,\n",
      "L067\n",
      "29: 0,1,2,3,4,5,6,7,8,9,10,11,12,13,14,15,16,17,18,19,20,21,22,23,24,25,26,27,28,\n"
     ]
    }
   ],
   "source": [
    "result_dir = '/home/local/PARTNERS/dw640/mnt/women_health_internal/dufan.wu/deep_denoiser_ensemble/test/mayo_2d_3_layer_mean'\n",
    "names = ['L291', 'L143', 'L067']\n",
    "margin = 96\n",
    "\n",
    "# names = ['L143']\n",
    "\n",
    "manifest = []\n",
    "for name in names:\n",
    "    print (name, flush=True)\n",
    "    result_list = [f for f in glob.glob(os.path.join(result_dir, '*/*', '%s*.nii'%name)) if 'full' not in f]\n",
    "    \n",
    "    # load the reference image\n",
    "    ref = sitk.GetArrayFromImage(sitk.ReadImage(os.path.join(result_dir, 'full/fbp/%s.nii')%name))[:, margin:-margin, margin:-margin]\n",
    "    print (len(result_list), end=': ', flush=True)\n",
    "    metric_manifests = []\n",
    "    for k, result_name in enumerate(result_list):\n",
    "        print (k, end = ',', flush=True)\n",
    "        \n",
    "        attrib = get_attrib_from_name(result_name)\n",
    "        img = sitk.GetArrayFromImage(sitk.ReadImage(result_name))[:, margin:-margin, margin:-margin]\n",
    "        \n",
    "        std_dist, ref_patches = calc_std_difference(ref, img)\n",
    "        std_dist = std_dist[:100]\n",
    "        \n",
    "        df = pd.DataFrame({'Image': [attrib['Image']] * len(std_dist), \n",
    "                           'Patch': range(len(std_dist)), \n",
    "                           attrib['Tag'] + '/std': std_dist})\n",
    "        metric_manifests.append(df)\n",
    "#         break\n",
    "        \n",
    "    print ('')\n",
    "    \n",
    "    # merge the manifests\n",
    "    df = metric_manifests[0]\n",
    "    for m in metric_manifests[1:]:\n",
    "        df = pd.merge(df, m, on = ['Image', 'Patch'])\n",
    "    manifest.append(df)\n",
    "#     break\n",
    "        \n",
    "manifest = pd.concat(manifest, ignore_index = True)\n",
    "manifest.to_csv('./mayo2d_texture_avg.csv', index=False)"
   ]
  },
  {
   "cell_type": "code",
   "execution_count": 6,
   "metadata": {},
   "outputs": [],
   "source": [
    "# ref_patches.shape"
   ]
  },
  {
   "cell_type": "code",
   "execution_count": 7,
   "metadata": {},
   "outputs": [],
   "source": [
    "# import matplotlib.pyplot as plt\n",
    "# patch_img = np.zeros([320, 320])\n",
    "# for i in range(100):\n",
    "#     ix = i % 10\n",
    "#     iy = i // 10\n",
    "    \n",
    "#     patch_img[iy*32:(iy+1)*32, ix*32:(ix+1)*32] = ref_patches[i] - np.mean(ref_patches[i])\n",
    "# plt.imshow(patch_img, 'gray', vmin=-160, vmax=240)"
   ]
  },
  {
   "cell_type": "code",
   "execution_count": null,
   "metadata": {},
   "outputs": [],
   "source": []
  }
 ],
 "metadata": {
  "kernelspec": {
   "name": "python3",
   "display_name": "Python 3.8.5 64-bit ('tf2.2': conda)"
  },
  "language_info": {
   "codemirror_mode": {
    "name": "ipython",
    "version": 3
   },
   "file_extension": ".py",
   "mimetype": "text/x-python",
   "name": "python",
   "nbconvert_exporter": "python",
   "pygments_lexer": "ipython3",
   "version": "3.8.5"
  },
  "interpreter": {
   "hash": "02fb59403fe7ce6cf933e7be2a513a029a81c3ff6e70737074a8d2587f4d1f17"
  }
 },
 "nbformat": 4,
 "nbformat_minor": 4
}