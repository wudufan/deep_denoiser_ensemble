{
 "cells": [
  {
   "cell_type": "code",
   "execution_count": null,
   "metadata": {},
   "outputs": [],
   "source": [
    "'''\n",
    "Generate the dect projection data set. 3 layer mean\n",
    "'''"
   ]
  },
  {
   "cell_type": "code",
   "execution_count": 2,
   "metadata": {},
   "outputs": [],
   "source": [
    "import pandas as pd\n",
    "import SimpleITK as sitk\n",
    "import h5py\n",
    "import os\n",
    "import numpy as np\n",
    "import glob"
   ]
  },
  {
   "cell_type": "code",
   "execution_count": 10,
   "metadata": {},
   "outputs": [],
   "source": [
    "input_dir = '/home/dwu/data/DECT/sinogram/'\n",
    "\n",
    "postfix = 'half'\n",
    "output_dir = '/home/dwu/trainData/deep_denoiser_ensemble/data/dect_2d_3_layer_mean/prj_%s'%postfix\n",
    "if not os.path.exists(output_dir):\n",
    "    os.makedirs(output_dir)\n",
    "\n",
    "nlayers = 3\n",
    "nslices = 100\n",
    "    \n",
    "if postfix == 'full':\n",
    "    filenames = glob.glob(os.path.join(input_dir, 'sino_*_1.mat'))\n",
    "else:\n",
    "    filenames = glob.glob(os.path.join(input_dir, 'sino_*_2.mat'))"
   ]
  },
  {
   "cell_type": "code",
   "execution_count": 11,
   "metadata": {},
   "outputs": [],
   "source": [
    "def pad_projection_b(prj_a, prj_b, n_pixels = 20, reg = 0.1):\n",
    "    margin = int((prj_a.shape[2] - prj_b.shape[2]) / 2)\n",
    "    \n",
    "    prj_b_left = prj_b[..., :n_pixels]\n",
    "    prj_a_left = prj_a[..., margin:margin+n_pixels]\n",
    "    coefs_left = np.sum(prj_b_left * prj_a_left, 2) / np.sum(prj_b_left * prj_a_left + reg, 2)\n",
    "    \n",
    "    prj_b_right = prj_b[..., -n_pixels:]\n",
    "    prj_a_right = prj_a[..., -margin-n_pixels:-margin]\n",
    "    coefs_right = np.sum(prj_b_right * prj_a_right, 2) / np.sum(prj_b_right * prj_a_right + reg, 2)\n",
    "    \n",
    "    extrap_prj_b = np.zeros_like(prj_a)\n",
    "    extrap_prj_b[..., :margin] = prj_a[..., :margin] * coefs_left[..., np.newaxis]\n",
    "    extrap_prj_b[..., margin:-margin] = prj_b\n",
    "    extrap_prj_b[..., -margin:] = prj_a[..., -margin:] * coefs_right[..., np.newaxis]\n",
    "    \n",
    "    return extrap_prj_b"
   ]
  },
  {
   "cell_type": "code",
   "execution_count": 25,
   "metadata": {},
   "outputs": [
    {
     "name": "stdout",
     "output_type": "stream",
     "text": [
      "63\n",
      "0 /home/dwu/data/DECT/sinogram/sino_55_2.mat\n"
     ]
    }
   ],
   "source": [
    "np.random.seed(0)\n",
    "manifest = []\n",
    "print (len(filenames))\n",
    "for k, filename in enumerate(filenames[13:]):\n",
    "    print (k, filename)\n",
    "    \n",
    "    name = os.path.basename(filename)[:-4]\n",
    "    \n",
    "    with h5py.File(filename, 'r') as f:\n",
    "        prj_a = np.copy(f['sinoA']).astype(np.float32)\n",
    "        prj_b = np.copy(f['sinoB']).astype(np.float32)\n",
    "    \n",
    "    ext_b = pad_projection_b(prj_a, prj_b)\n",
    "    \n",
    "    # select the layers\n",
    "    inds = np.arange(0, len(prj_a) + 1 - nlayers)\n",
    "    inds = np.random.choice(inds, nslices, False)\n",
    "    inds = np.sort(inds)\n",
    "    \n",
    "    # calculate 3-layer mean\n",
    "    selected_a = []\n",
    "    selected_b = []\n",
    "    for i in inds:\n",
    "        manifest.append({'Tag': name, 'Slice': i})\n",
    "        selected_a.append(prj_a[i:i+nlayers].mean(0))\n",
    "        selected_b.append(ext_b[i:i+nlayers].mean(0))\n",
    "    selected_a = np.array(selected_a).astype(np.float32)\n",
    "    selected_b = np.array(selected_b).astype(np.float32)\n",
    "    \n",
    "    sitk_a = sitk.GetImageFromArray(selected_a)\n",
    "    sitk_b = sitk.GetImageFromArray(selected_b)\n",
    "    \n",
    "    sitk.WriteImage(sitk_a, os.path.join(output_dir, name + '.a.nii'))\n",
    "    sitk.WriteImage(sitk_b, os.path.join(output_dir, name + '.b.nii'))\n",
    "    \n",
    "    break\n",
    "    \n",
    "manifest = pd.DataFrame(manifest)\n",
    "manifest.to_csv(os.path.join(output_dir, 'manifest.csv'), index=False)"
   ]
  },
  {
   "cell_type": "code",
   "execution_count": 21,
   "metadata": {},
   "outputs": [
    {
     "name": "stdout",
     "output_type": "stream",
     "text": [
      "0 /home/dwu/data/DECT/sinogram/sino_3_2.mat\n",
      "1 /home/dwu/data/DECT/sinogram/sino_13_2.mat\n",
      "2 /home/dwu/data/DECT/sinogram/sino_46_2.mat\n",
      "3 /home/dwu/data/DECT/sinogram/sino_14_2.mat\n",
      "4 /home/dwu/data/DECT/sinogram/sino_47_2.mat\n",
      "5 /home/dwu/data/DECT/sinogram/sino_16_2.mat\n",
      "6 /home/dwu/data/DECT/sinogram/sino_49_2.mat\n",
      "7 /home/dwu/data/DECT/sinogram/sino_17_2.mat\n",
      "8 /home/dwu/data/DECT/sinogram/sino_4_2.mat\n",
      "9 /home/dwu/data/DECT/sinogram/sino_18_2.mat\n",
      "10 /home/dwu/data/DECT/sinogram/sino_53_2.mat\n",
      "11 /home/dwu/data/DECT/sinogram/sino_54_2.mat\n",
      "12 /home/dwu/data/DECT/sinogram/sino_19_2.mat\n",
      "13 /home/dwu/data/DECT/sinogram/sino_55_2.mat\n",
      "14 /home/dwu/data/DECT/sinogram/sino_20_2.mat\n",
      "15 /home/dwu/data/DECT/sinogram/sino_56_2.mat\n",
      "16 /home/dwu/data/DECT/sinogram/sino_21_2.mat\n",
      "17 /home/dwu/data/DECT/sinogram/sino_57_2.mat\n",
      "18 /home/dwu/data/DECT/sinogram/sino_22_2.mat\n",
      "19 /home/dwu/data/DECT/sinogram/sino_58_2.mat\n",
      "20 /home/dwu/data/DECT/sinogram/sino_23_2.mat\n",
      "21 /home/dwu/data/DECT/sinogram/sino_59_2.mat\n",
      "22 /home/dwu/data/DECT/sinogram/sino_24_2.mat\n",
      "23 /home/dwu/data/DECT/sinogram/sino_5_2.mat\n",
      "24 /home/dwu/data/DECT/sinogram/sino_25_2.mat\n",
      "25 /home/dwu/data/DECT/sinogram/sino_60_2.mat\n",
      "26 /home/dwu/data/DECT/sinogram/sino_26_2.mat\n",
      "27 /home/dwu/data/DECT/sinogram/sino_63_2.mat\n",
      "28 /home/dwu/data/DECT/sinogram/sino_27_2.mat\n",
      "29 /home/dwu/data/DECT/sinogram/sino_64_2.mat\n",
      "30 /home/dwu/data/DECT/sinogram/sino_28_2.mat\n",
      "31 /home/dwu/data/DECT/sinogram/sino_29_2.mat\n",
      "32 /home/dwu/data/DECT/sinogram/sino_65_2.mat\n",
      "33 /home/dwu/data/DECT/sinogram/sino_66_2.mat\n",
      "34 /home/dwu/data/DECT/sinogram/sino_2_2.mat\n",
      "35 /home/dwu/data/DECT/sinogram/sino_67_2.mat\n",
      "36 /home/dwu/data/DECT/sinogram/sino_30_2.mat\n",
      "37 /home/dwu/data/DECT/sinogram/sino_68_2.mat\n",
      "38 /home/dwu/data/DECT/sinogram/sino_31_2.mat\n",
      "39 /home/dwu/data/DECT/sinogram/sino_69_2.mat\n",
      "40 /home/dwu/data/DECT/sinogram/sino_32_2.mat\n",
      "41 /home/dwu/data/DECT/sinogram/sino_6_2.mat\n",
      "42 /home/dwu/data/DECT/sinogram/sino_33_2.mat\n",
      "43 /home/dwu/data/DECT/sinogram/sino_70_2.mat\n",
      "44 /home/dwu/data/DECT/sinogram/sino_34_2.mat\n",
      "45 /home/dwu/data/DECT/sinogram/sino_71_2.mat\n",
      "46 /home/dwu/data/DECT/sinogram/sino_35_2.mat\n",
      "47 /home/dwu/data/DECT/sinogram/sino_72_2.mat\n",
      "48 /home/dwu/data/DECT/sinogram/sino_38_2.mat\n",
      "49 /home/dwu/data/DECT/sinogram/sino_7_2.mat\n",
      "50 /home/dwu/data/DECT/sinogram/sino_50_2.mat\n",
      "51 /home/dwu/data/DECT/sinogram/sino_73_2.mat\n",
      "52 /home/dwu/data/DECT/sinogram/sino_51_2.mat\n",
      "53 /home/dwu/data/DECT/sinogram/sino_74_2.mat\n",
      "54 /home/dwu/data/DECT/sinogram/sino_52_2.mat\n",
      "55 /home/dwu/data/DECT/sinogram/sino_75_2.mat\n",
      "56 /home/dwu/data/DECT/sinogram/sino_76_2.mat\n",
      "57 /home/dwu/data/DECT/sinogram/sino_77_2.mat\n",
      "58 /home/dwu/data/DECT/sinogram/sino_78_2.mat\n",
      "59 /home/dwu/data/DECT/sinogram/sino_79_2.mat\n",
      "60 /home/dwu/data/DECT/sinogram/sino_80_2.mat\n",
      "61 /home/dwu/data/DECT/sinogram/sino_81_2.mat\n",
      "62 /home/dwu/data/DECT/sinogram/sino_82_2.mat\n"
     ]
    }
   ],
   "source": [
    "for i, filename in enumerate(filenames):\n",
    "    print (i, filename)"
   ]
  },
  {
   "cell_type": "code",
   "execution_count": null,
   "metadata": {},
   "outputs": [],
   "source": []
  }
 ],
 "metadata": {
  "kernelspec": {
   "display_name": "Python 3",
   "language": "python",
   "name": "python3"
  },
  "language_info": {
   "codemirror_mode": {
    "name": "ipython",
    "version": 3
   },
   "file_extension": ".py",
   "mimetype": "text/x-python",
   "name": "python",
   "nbconvert_exporter": "python",
   "pygments_lexer": "ipython3",
   "version": "3.8.6"
  }
 },
 "nbformat": 4,
 "nbformat_minor": 4
}
