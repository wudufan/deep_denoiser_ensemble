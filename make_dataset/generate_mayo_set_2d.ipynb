{
 "cells": [
  {
   "cell_type": "code",
   "execution_count": 1,
   "metadata": {},
   "outputs": [
    {
     "data": {
      "text/plain": [
       "'\\ngenerate mayo dataset for 2D. use 3 layer mean\\n'"
      ]
     },
     "execution_count": 1,
     "metadata": {},
     "output_type": "execute_result"
    }
   ],
   "source": [
    "'''\n",
    "generate mayo dataset for 2D. use 3 layer mean\n",
    "'''"
   ]
  },
  {
   "cell_type": "code",
   "execution_count": 2,
   "metadata": {},
   "outputs": [],
   "source": [
    "import pandas as pd\n",
    "import SimpleITK as sitk\n",
    "import numpy as np\n",
    "import os\n",
    "import glob"
   ]
  },
  {
   "cell_type": "code",
   "execution_count": 3,
   "metadata": {},
   "outputs": [],
   "source": [
    "input_dir = '/home/dwu/trainData/deep_denoiser_ensemble/data/mayo/'\n",
    "output_dir = '/home/dwu/trainData/deep_denoiser_ensemble/data/mayo_2d_3_layer_mean'\n",
    "nslices_per_img = 100\n",
    "nslices_mean = 3\n",
    "spacing = [0.75, 0.75, 1]\n",
    "\n",
    "if not os.path.exists(output_dir):\n",
    "    os.makedirs(output_dir)"
   ]
  },
  {
   "cell_type": "code",
   "execution_count": 4,
   "metadata": {},
   "outputs": [],
   "source": [
    "# generate manifest to sample \n",
    "'''\n",
    "np.random.seed(0)\n",
    "records = []\n",
    "dose_levels = [s for s in glob.glob(os.path.join(input_dir, '*')) if os.path.isdir(s)]\n",
    "filenames = glob.glob(os.path.join(dose_levels[0], '*.nii'))\n",
    "\n",
    "ind = 0\n",
    "for filename in filenames:    \n",
    "    imgname = os.path.basename(filename).split('_')[0]\n",
    "    print (imgname, end=', ', flush=True)\n",
    "    \n",
    "    img = sitk.GetArrayFromImage(sitk.ReadImage(filename))\n",
    "    \n",
    "    islices = np.random.choice(np.arange(img.shape[0] - nslices_mean + 1), size = nslices_per_img, replace = False)\n",
    "    islices = np.sort(islices)\n",
    "    for islice in islices:\n",
    "        records.append({'Index': ind, 'Tag': imgname, 'Slice': islice})\n",
    "        ind += 1\n",
    "\n",
    "records = pd.DataFrame(records)\n",
    "records.to_csv(os.path.join(output_dir, 'manifest.csv'), index=False)\n",
    "'''\n",
    "\n",
    "dose_levels = [s for s in glob.glob(os.path.join(input_dir, '*')) if os.path.isdir(s)]\n",
    "records = pd.read_csv(os.path.join(output_dir, 'manifest.csv'))"
   ]
  },
  {
   "cell_type": "code",
   "execution_count": 7,
   "metadata": {},
   "outputs": [
    {
     "name": "stdout",
     "output_type": "stream",
     "text": [
      "/home/dwu/trainData/deep_denoiser_ensemble/data/mayo/dose_rate_4\n",
      "/home/dwu/trainData/deep_denoiser_ensemble/data/mayo/dose_rate_2\n",
      "/home/dwu/trainData/deep_denoiser_ensemble/data/mayo/dose_rate_8\n",
      "/home/dwu/trainData/deep_denoiser_ensemble/data/mayo/dose_rate_1\n",
      "/home/dwu/trainData/deep_denoiser_ensemble/data/mayo/dose_rate_12\n",
      "/home/dwu/trainData/deep_denoiser_ensemble/data/mayo/dose_rate_16\n"
     ]
    }
   ],
   "source": [
    "# generate nii images for each dose level\n",
    "imgnames = records.Tag.drop_duplicates().values\n",
    "for dose in dose_levels[-1:]:\n",
    "    print (dose, flush=True)\n",
    "    dataset = []\n",
    "    for imgname in imgnames:\n",
    "        sub_records = records[records.Tag == imgname]\n",
    "        filename = glob.glob(os.path.join(dose, imgname+'_*.nii'))[0]\n",
    "        img = sitk.GetArrayFromImage(sitk.ReadImage(filename))\n",
    "        for islice in sub_records.Slice.values:\n",
    "            dataset.append(img[islice:islice+nslices_mean].mean(0).astype(np.int16))\n",
    "            \n",
    "    dataset = np.array(dataset)\n",
    "    sitk_dataset = sitk.GetImageFromArray(dataset)\n",
    "    sitk_dataset.SetSpacing(spacing)\n",
    "    sitk.WriteImage(sitk_dataset, os.path.join(output_dir, os.path.basename(dose) + '.nii'))"
   ]
  },
  {
   "cell_type": "code",
   "execution_count": null,
   "metadata": {},
   "outputs": [],
   "source": []
  }
 ],
 "metadata": {
  "kernelspec": {
   "display_name": "Python 3",
   "language": "python",
   "name": "python3"
  },
  "language_info": {
   "codemirror_mode": {
    "name": "ipython",
    "version": 3
   },
   "file_extension": ".py",
   "mimetype": "text/x-python",
   "name": "python",
   "nbconvert_exporter": "python",
   "pygments_lexer": "ipython3",
   "version": "3.8.6"
  }
 },
 "nbformat": 4,
 "nbformat_minor": 4
}
