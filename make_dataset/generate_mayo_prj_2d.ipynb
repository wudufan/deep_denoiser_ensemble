{
 "cells": [
  {
   "cell_type": "code",
   "execution_count": 1,
   "metadata": {},
   "outputs": [
    {
     "output_type": "execute_result",
     "data": {
      "text/plain": [
       "'\\nGenerate the projection dataset for mayo data. Use 3-layer mean\\n'"
      ]
     },
     "metadata": {},
     "execution_count": 1
    }
   ],
   "source": [
    "'''\n",
    "Generate the projection dataset for mayo data. Use 3-layer mean\n",
    "'''"
   ]
  },
  {
   "cell_type": "code",
   "execution_count": 3,
   "metadata": {},
   "outputs": [],
   "source": [
    "import pandas as pd\n",
    "import SimpleITK as sitk\n",
    "import h5py\n",
    "import os\n",
    "import numpy as np"
   ]
  },
  {
   "cell_type": "code",
   "execution_count": 4,
   "metadata": {},
   "outputs": [],
   "source": [
    "input_dir = '/home/local/PARTNERS/dw640/mnt/women_health_internal/dufan.wu/lowdoseCTsets/'\n",
    "postfix = 'quarter'\n",
    "\n",
    "output_dir = '/home/local/PARTNERS/dw640/mnt/women_health_internal/dufan.wu/deep_denoiser_ensemble/data/mayo_2d_3_layer_mean/prj_%s'%postfix\n",
    "if not os.path.exists(output_dir):\n",
    "    os.makedirs(output_dir)\n",
    "\n",
    "manifest = pd.read_csv('/home/local/PARTNERS/dw640/mnt/women_health_internal/dufan.wu/deep_denoiser_ensemble/data/mayo_2d_3_layer_mean/manifest.csv')\n",
    "nslices_mean = 3"
   ]
  },
  {
   "cell_type": "code",
   "execution_count": 4,
   "metadata": {},
   "outputs": [
    {
     "name": "stdout",
     "output_type": "stream",
     "text": [
      "L291, L067, L096, L109, L143, L192, L286, L310, L333, L506, "
     ]
    }
   ],
   "source": [
    "for tag in manifest.Tag.drop_duplicates().values:\n",
    "    print (tag, end=', ', flush=True)\n",
    "    sub_manifest = manifest[manifest.Tag == tag]\n",
    "    with h5py.File(os.path.join(input_dir, '%s_%s_sino.mat'%(tag, postfix)), 'r') as f:\n",
    "        prj = np.copy(f['sino']).astype(np.float32)\n",
    "    \n",
    "    islices = np.array(sub_manifest.Slice.values)\n",
    "    prjs = []\n",
    "    for islice in islices:\n",
    "        prjs.append(np.mean(prj[islice:islice + nslices_mean], 0))\n",
    "    prjs = np.array(prjs).astype(np.float32)\n",
    "    \n",
    "    sitk_prj = sitk.GetImageFromArray(prjs)\n",
    "    sitk.WriteImage(sitk_prj, os.path.join(output_dir, tag+'.nii'))"
   ]
  },
  {
   "cell_type": "code",
   "execution_count": null,
   "metadata": {},
   "outputs": [],
   "source": []
  }
 ],
 "metadata": {
  "kernelspec": {
   "name": "python3",
   "display_name": "Python 3.7.6 64-bit ('dbt_dev': conda)"
  },
  "language_info": {
   "codemirror_mode": {
    "name": "ipython",
    "version": 3
   },
   "file_extension": ".py",
   "mimetype": "text/x-python",
   "name": "python",
   "nbconvert_exporter": "python",
   "pygments_lexer": "ipython3",
   "version": "3.7.6"
  },
  "interpreter": {
   "hash": "04fc085b4c305623d45105d8bcdc570bddd24d3fe2cda0fea67cfb0832443c45"
  }
 },
 "nbformat": 4,
 "nbformat_minor": 4
}